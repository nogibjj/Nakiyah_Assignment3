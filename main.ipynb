{
 "cells": [
  {
   "cell_type": "code",
   "execution_count": null,
   "metadata": {},
   "outputs": [],
   "source": [
    "from mylib.lib import (\n",
    "    readData,\n",
    "    cleanData,\n",
    "    summaryStatistics,\n",
    "    PiePlot,\n",
    "    tripleBarPlot,\n",
    ")\n",
    "\n",
    "Data = \"FT Global Business School MBA Ranking 2024.csv\"\n",
    "ReadData = readData(Data)\n",
    "\n",
    "\n",
    "ColumnsWantedForSummaryStats = [\n",
    "    \"Value for money rank\",\n",
    "    \"Salary percentage increase\",\n",
    "    \"Overall satisfaction **\",\n",
    "]\n",
    "SummaryStatistics = summaryStatistics(ReadData, ColumnsWantedForSummaryStats)\n",
    "print(SummaryStatistics)\n",
    "\n",
    "\n",
    "ColumnsForDataset = [\n",
    "    \"#\",\n",
    "    \"School Name\",\n",
    "    \"International students (%)\",\n",
    "    \"International faculty (%)\",\n",
    "    \"Value for money rank\",\n",
    "    \"Career progress rank\",\n",
    "    \"Careers service rank\",\n",
    "]\n",
    "Rank = \"#\"  # Column for sorting\n",
    "requiredrank = 10\n",
    "PctIntlStudents = \"International students (%)\"\n",
    "PctIntlFaculty = \"International faculty (%)\"\n",
    "SchoolName = \"School Name\"\n",
    "RankNames = \"Value for money rank\", \"Career progress rank\", \"Careers service rank\"\n",
    "\n",
    "CleanData = cleanData(ReadData, Rank, ColumnsForDataset, requiredrank)\n",
    "piePlotStudents = PiePlot(CleanData, PctIntlStudents, SchoolName)\n",
    "piePlotFaculty = PiePlot(CleanData, PctIntlFaculty, SchoolName)\n",
    "BarChart = tripleBarPlot(CleanData, SchoolName, RankNames)\n"
   ]
  }
 ],
 "metadata": {
  "language_info": {
   "name": "python"
  }
 },
 "nbformat": 4,
 "nbformat_minor": 2
}
